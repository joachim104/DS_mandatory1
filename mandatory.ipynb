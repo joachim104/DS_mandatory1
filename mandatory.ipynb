{
 "cells": [
  {
   "cell_type": "code",
   "execution_count": 1,
   "metadata": {},
   "outputs": [],
   "source": [
    "import numpy as np\n",
    "import pandas as pd\n",
    "import matplotlib.pyplot as plt\n",
    "from pandas import Series, DataFrame"
   ]
  },
  {
   "cell_type": "code",
   "execution_count": 31,
   "metadata": {},
   "outputs": [
    {
     "name": "stdout",
     "output_type": "stream",
     "text": [
      "1.6756013745704468\n",
      "0    732\n",
      "3    699\n",
      "1    506\n",
      "4    451\n",
      "2    411\n",
      "Name: attendance, dtype: int64\n"
     ]
    }
   ],
   "source": [
    "pd.options.display.max_rows=3000\n",
    "\n",
    "\n",
    "df = pd.read_csv('data.csv')\n",
    "\n",
    "s = \"Q\"\n",
    "columns = []\n",
    "for i in range(1, 29):\n",
    "    columns.append(s + str(i))\n",
    "    \n",
    "df[columns] = df[columns].replace([1, 2, 3, 4, 5], [-2, -1, 0, 1, 2])\n",
    "df[\"sum\"] = df[columns].sum(axis=1).div(28)\n",
    "df2 = df[df[\"Q1\"] != df[\"sum\"]]\n",
    "df2\n",
    "\n",
    "\n",
    "\n",
    "\n",
    "\n",
    "attendance = df[\"attendance\"].sum()\n",
    "\n",
    "float_att = float(attendance)\n",
    "\n",
    "\n",
    "print((float_att / df['instr'].count()))\n",
    "print(df2['attendance'].value_counts())\n",
    "\n",
    "\n"
   ]
  },
  {
   "cell_type": "code",
   "execution_count": null,
   "metadata": {},
   "outputs": [],
   "source": []
  }
 ],
 "metadata": {
  "kernelspec": {
   "display_name": "Python 3",
   "language": "python",
   "name": "python3"
  },
  "language_info": {
   "codemirror_mode": {
    "name": "ipython",
    "version": 3
   },
   "file_extension": ".py",
   "mimetype": "text/x-python",
   "name": "python",
   "nbconvert_exporter": "python",
   "pygments_lexer": "ipython3",
   "version": "3.7.3"
  }
 },
 "nbformat": 4,
 "nbformat_minor": 2
}
